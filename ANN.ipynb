{
 "cells": [
  {
   "cell_type": "code",
   "execution_count": 2,
   "metadata": {},
   "outputs": [],
   "source": [
    "import pandas as pd\n",
    "import numpy as np\n",
    "import tensorflow as tf"
   ]
  },
  {
   "cell_type": "code",
   "execution_count": 3,
   "metadata": {},
   "outputs": [
    {
     "data": {
      "text/plain": [
       "'1.14.0'"
      ]
     },
     "execution_count": 3,
     "metadata": {},
     "output_type": "execute_result"
    }
   ],
   "source": [
    "tf.__version__"
   ]
  },
  {
   "cell_type": "code",
   "execution_count": 4,
   "metadata": {},
   "outputs": [],
   "source": [
    "cm = pd.read_csv('Churn_Modelling.csv')"
   ]
  },
  {
   "cell_type": "code",
   "execution_count": 5,
   "metadata": {},
   "outputs": [
    {
     "data": {
      "text/html": [
       "<div>\n",
       "<style scoped>\n",
       "    .dataframe tbody tr th:only-of-type {\n",
       "        vertical-align: middle;\n",
       "    }\n",
       "\n",
       "    .dataframe tbody tr th {\n",
       "        vertical-align: top;\n",
       "    }\n",
       "\n",
       "    .dataframe thead th {\n",
       "        text-align: right;\n",
       "    }\n",
       "</style>\n",
       "<table border=\"1\" class=\"dataframe\">\n",
       "  <thead>\n",
       "    <tr style=\"text-align: right;\">\n",
       "      <th></th>\n",
       "      <th>RowNumber</th>\n",
       "      <th>CustomerId</th>\n",
       "      <th>CreditScore</th>\n",
       "      <th>Age</th>\n",
       "      <th>Tenure</th>\n",
       "      <th>Balance</th>\n",
       "      <th>NumOfProducts</th>\n",
       "      <th>HasCrCard</th>\n",
       "      <th>IsActiveMember</th>\n",
       "      <th>EstimatedSalary</th>\n",
       "      <th>Exited</th>\n",
       "    </tr>\n",
       "  </thead>\n",
       "  <tbody>\n",
       "    <tr>\n",
       "      <th>count</th>\n",
       "      <td>10000.00000</td>\n",
       "      <td>1.000000e+04</td>\n",
       "      <td>10000.000000</td>\n",
       "      <td>10000.000000</td>\n",
       "      <td>10000.000000</td>\n",
       "      <td>10000.000000</td>\n",
       "      <td>10000.000000</td>\n",
       "      <td>10000.00000</td>\n",
       "      <td>10000.000000</td>\n",
       "      <td>10000.000000</td>\n",
       "      <td>10000.000000</td>\n",
       "    </tr>\n",
       "    <tr>\n",
       "      <th>mean</th>\n",
       "      <td>5000.50000</td>\n",
       "      <td>1.569094e+07</td>\n",
       "      <td>650.528800</td>\n",
       "      <td>38.921800</td>\n",
       "      <td>5.012800</td>\n",
       "      <td>76485.889288</td>\n",
       "      <td>1.530200</td>\n",
       "      <td>0.70550</td>\n",
       "      <td>0.515100</td>\n",
       "      <td>100090.239881</td>\n",
       "      <td>0.203700</td>\n",
       "    </tr>\n",
       "    <tr>\n",
       "      <th>std</th>\n",
       "      <td>2886.89568</td>\n",
       "      <td>7.193619e+04</td>\n",
       "      <td>96.653299</td>\n",
       "      <td>10.487806</td>\n",
       "      <td>2.892174</td>\n",
       "      <td>62397.405202</td>\n",
       "      <td>0.581654</td>\n",
       "      <td>0.45584</td>\n",
       "      <td>0.499797</td>\n",
       "      <td>57510.492818</td>\n",
       "      <td>0.402769</td>\n",
       "    </tr>\n",
       "    <tr>\n",
       "      <th>min</th>\n",
       "      <td>1.00000</td>\n",
       "      <td>1.556570e+07</td>\n",
       "      <td>350.000000</td>\n",
       "      <td>18.000000</td>\n",
       "      <td>0.000000</td>\n",
       "      <td>0.000000</td>\n",
       "      <td>1.000000</td>\n",
       "      <td>0.00000</td>\n",
       "      <td>0.000000</td>\n",
       "      <td>11.580000</td>\n",
       "      <td>0.000000</td>\n",
       "    </tr>\n",
       "    <tr>\n",
       "      <th>25%</th>\n",
       "      <td>2500.75000</td>\n",
       "      <td>1.562853e+07</td>\n",
       "      <td>584.000000</td>\n",
       "      <td>32.000000</td>\n",
       "      <td>3.000000</td>\n",
       "      <td>0.000000</td>\n",
       "      <td>1.000000</td>\n",
       "      <td>0.00000</td>\n",
       "      <td>0.000000</td>\n",
       "      <td>51002.110000</td>\n",
       "      <td>0.000000</td>\n",
       "    </tr>\n",
       "    <tr>\n",
       "      <th>50%</th>\n",
       "      <td>5000.50000</td>\n",
       "      <td>1.569074e+07</td>\n",
       "      <td>652.000000</td>\n",
       "      <td>37.000000</td>\n",
       "      <td>5.000000</td>\n",
       "      <td>97198.540000</td>\n",
       "      <td>1.000000</td>\n",
       "      <td>1.00000</td>\n",
       "      <td>1.000000</td>\n",
       "      <td>100193.915000</td>\n",
       "      <td>0.000000</td>\n",
       "    </tr>\n",
       "    <tr>\n",
       "      <th>75%</th>\n",
       "      <td>7500.25000</td>\n",
       "      <td>1.575323e+07</td>\n",
       "      <td>718.000000</td>\n",
       "      <td>44.000000</td>\n",
       "      <td>7.000000</td>\n",
       "      <td>127644.240000</td>\n",
       "      <td>2.000000</td>\n",
       "      <td>1.00000</td>\n",
       "      <td>1.000000</td>\n",
       "      <td>149388.247500</td>\n",
       "      <td>0.000000</td>\n",
       "    </tr>\n",
       "    <tr>\n",
       "      <th>max</th>\n",
       "      <td>10000.00000</td>\n",
       "      <td>1.581569e+07</td>\n",
       "      <td>850.000000</td>\n",
       "      <td>92.000000</td>\n",
       "      <td>10.000000</td>\n",
       "      <td>250898.090000</td>\n",
       "      <td>4.000000</td>\n",
       "      <td>1.00000</td>\n",
       "      <td>1.000000</td>\n",
       "      <td>199992.480000</td>\n",
       "      <td>1.000000</td>\n",
       "    </tr>\n",
       "  </tbody>\n",
       "</table>\n",
       "</div>"
      ],
      "text/plain": [
       "         RowNumber    CustomerId   CreditScore           Age        Tenure  \\\n",
       "count  10000.00000  1.000000e+04  10000.000000  10000.000000  10000.000000   \n",
       "mean    5000.50000  1.569094e+07    650.528800     38.921800      5.012800   \n",
       "std     2886.89568  7.193619e+04     96.653299     10.487806      2.892174   \n",
       "min        1.00000  1.556570e+07    350.000000     18.000000      0.000000   \n",
       "25%     2500.75000  1.562853e+07    584.000000     32.000000      3.000000   \n",
       "50%     5000.50000  1.569074e+07    652.000000     37.000000      5.000000   \n",
       "75%     7500.25000  1.575323e+07    718.000000     44.000000      7.000000   \n",
       "max    10000.00000  1.581569e+07    850.000000     92.000000     10.000000   \n",
       "\n",
       "             Balance  NumOfProducts    HasCrCard  IsActiveMember  \\\n",
       "count   10000.000000   10000.000000  10000.00000    10000.000000   \n",
       "mean    76485.889288       1.530200      0.70550        0.515100   \n",
       "std     62397.405202       0.581654      0.45584        0.499797   \n",
       "min         0.000000       1.000000      0.00000        0.000000   \n",
       "25%         0.000000       1.000000      0.00000        0.000000   \n",
       "50%     97198.540000       1.000000      1.00000        1.000000   \n",
       "75%    127644.240000       2.000000      1.00000        1.000000   \n",
       "max    250898.090000       4.000000      1.00000        1.000000   \n",
       "\n",
       "       EstimatedSalary        Exited  \n",
       "count     10000.000000  10000.000000  \n",
       "mean     100090.239881      0.203700  \n",
       "std       57510.492818      0.402769  \n",
       "min          11.580000      0.000000  \n",
       "25%       51002.110000      0.000000  \n",
       "50%      100193.915000      0.000000  \n",
       "75%      149388.247500      0.000000  \n",
       "max      199992.480000      1.000000  "
      ]
     },
     "execution_count": 5,
     "metadata": {},
     "output_type": "execute_result"
    }
   ],
   "source": [
    "cm.describe()"
   ]
  },
  {
   "cell_type": "code",
   "execution_count": 6,
   "metadata": {},
   "outputs": [],
   "source": [
    "X = cm.iloc[:,3:-1].values\n",
    "y = cm.iloc[:,-1].values"
   ]
  },
  {
   "cell_type": "code",
   "execution_count": 7,
   "metadata": {},
   "outputs": [
    {
     "name": "stdout",
     "output_type": "stream",
     "text": [
      "[[619 'France' 'Female' ... 1 1 101348.88]\n",
      " [608 'Spain' 'Female' ... 0 1 112542.58]\n",
      " [502 'France' 'Female' ... 1 0 113931.57]\n",
      " ...\n",
      " [709 'France' 'Female' ... 0 1 42085.58]\n",
      " [772 'Germany' 'Male' ... 1 0 92888.52]\n",
      " [792 'France' 'Female' ... 1 0 38190.78]]\n"
     ]
    }
   ],
   "source": [
    "print(X)"
   ]
  },
  {
   "cell_type": "code",
   "execution_count": 8,
   "metadata": {},
   "outputs": [
    {
     "name": "stdout",
     "output_type": "stream",
     "text": [
      "[1 0 1 ... 1 1 0]\n"
     ]
    }
   ],
   "source": [
    "print(y)"
   ]
  },
  {
   "cell_type": "markdown",
   "metadata": {},
   "source": [
    "Encoding categorical data"
   ]
  },
  {
   "cell_type": "code",
   "execution_count": 9,
   "metadata": {},
   "outputs": [],
   "source": [
    "from sklearn.preprocessing import LabelEncoder\n",
    "le = LabelEncoder()\n",
    "X[:, 2] = le.fit_transform(X[:, 2])"
   ]
  },
  {
   "cell_type": "code",
   "execution_count": 10,
   "metadata": {},
   "outputs": [
    {
     "name": "stdout",
     "output_type": "stream",
     "text": [
      "[[619 'France' 0 ... 1 1 101348.88]\n",
      " [608 'Spain' 0 ... 0 1 112542.58]\n",
      " [502 'France' 0 ... 1 0 113931.57]\n",
      " ...\n",
      " [709 'France' 0 ... 0 1 42085.58]\n",
      " [772 'Germany' 1 ... 1 0 92888.52]\n",
      " [792 'France' 0 ... 1 0 38190.78]]\n"
     ]
    }
   ],
   "source": [
    "print(X)"
   ]
  },
  {
   "cell_type": "markdown",
   "metadata": {},
   "source": [
    "one hot Encoding in 'Geography' column"
   ]
  },
  {
   "cell_type": "code",
   "execution_count": 11,
   "metadata": {},
   "outputs": [],
   "source": [
    "from sklearn.compose import ColumnTransformer\n",
    "from sklearn.preprocessing import OneHotEncoder\n",
    "\n",
    "ct = ColumnTransformer(transformers=[('encoder', OneHotEncoder(),[1])], remainder='passthrough')\n",
    "X = np.array(ct.fit_transform(X))"
   ]
  },
  {
   "cell_type": "code",
   "execution_count": 12,
   "metadata": {},
   "outputs": [
    {
     "name": "stdout",
     "output_type": "stream",
     "text": [
      "[[1.0 0.0 0.0 ... 1 1 101348.88]\n",
      " [0.0 0.0 1.0 ... 0 1 112542.58]\n",
      " [1.0 0.0 0.0 ... 1 0 113931.57]\n",
      " ...\n",
      " [1.0 0.0 0.0 ... 0 1 42085.58]\n",
      " [0.0 1.0 0.0 ... 1 0 92888.52]\n",
      " [1.0 0.0 0.0 ... 1 0 38190.78]]\n"
     ]
    }
   ],
   "source": [
    "print(X)"
   ]
  },
  {
   "cell_type": "code",
   "execution_count": 13,
   "metadata": {},
   "outputs": [],
   "source": [
    "from sklearn.model_selection import train_test_split\n",
    "X_train, X_test, y_train, y_test = train_test_split(X,y,test_size=0.2,random_state=0)"
   ]
  },
  {
   "cell_type": "markdown",
   "metadata": {},
   "source": [
    "Feature Scaling is fundamental in DL, and must be done in on all features"
   ]
  },
  {
   "cell_type": "code",
   "execution_count": 14,
   "metadata": {},
   "outputs": [],
   "source": [
    "from sklearn.preprocessing import StandardScaler\n",
    "sc = StandardScaler()\n",
    "X_train = sc.fit_transform(X_train)\n",
    "X_test = sc.fit_transform(X_test)"
   ]
  },
  {
   "cell_type": "markdown",
   "metadata": {},
   "source": [
    "Building the ANN with two hidden layer"
   ]
  },
  {
   "cell_type": "code",
   "execution_count": 15,
   "metadata": {},
   "outputs": [
    {
     "name": "stderr",
     "output_type": "stream",
     "text": [
      "Using TensorFlow backend.\n"
     ]
    }
   ],
   "source": [
    "from keras.models import Sequential\n",
    "ann = tf.keras.models.Sequential()"
   ]
  },
  {
   "cell_type": "markdown",
   "metadata": {},
   "source": [
    "Adding the input and first hidden layer"
   ]
  },
  {
   "cell_type": "code",
   "execution_count": 16,
   "metadata": {},
   "outputs": [
    {
     "name": "stdout",
     "output_type": "stream",
     "text": [
      "WARNING:tensorflow:From C:\\Users\\konar\\anaconda3\\lib\\site-packages\\tensorflow\\python\\ops\\init_ops.py:1251: calling VarianceScaling.__init__ (from tensorflow.python.ops.init_ops) with dtype is deprecated and will be removed in a future version.\n",
      "Instructions for updating:\n",
      "Call initializer instance with the dtype argument instead of passing it to the constructor\n"
     ]
    }
   ],
   "source": [
    "ann.add(tf.keras.layers.Dense(units=6, activation='relu'))"
   ]
  },
  {
   "cell_type": "code",
   "execution_count": 17,
   "metadata": {},
   "outputs": [],
   "source": [
    "ann.add(tf.keras.layers.Dense(units=6, activation='relu'))"
   ]
  },
  {
   "cell_type": "markdown",
   "metadata": {},
   "source": [
    "Adding the output layer"
   ]
  },
  {
   "cell_type": "code",
   "execution_count": 18,
   "metadata": {},
   "outputs": [],
   "source": [
    "ann.add(tf.keras.layers.Dense(units=1, activation='sigmoid'))"
   ]
  },
  {
   "cell_type": "markdown",
   "metadata": {},
   "source": [
    "Training the ANN"
   ]
  },
  {
   "cell_type": "code",
   "execution_count": 22,
   "metadata": {},
   "outputs": [],
   "source": [
    "ann.compile(optimizer = 'adam', loss = 'binary_crossentropy', metrics = ['accuracy'])\n",
    "#optimizer adam for stachastic gradient descent\n",
    "#loss binary_crossentropy because output has to be in binary\n",
    "#metrics"
   ]
  },
  {
   "cell_type": "markdown",
   "metadata": {},
   "source": [
    "Training ANN on training set"
   ]
  },
  {
   "cell_type": "code",
   "execution_count": 23,
   "metadata": {},
   "outputs": [
    {
     "name": "stdout",
     "output_type": "stream",
     "text": [
      "WARNING:tensorflow:From C:\\Users\\konar\\anaconda3\\lib\\site-packages\\tensorflow\\python\\ops\\nn_impl.py:180: add_dispatch_support.<locals>.wrapper (from tensorflow.python.ops.array_ops) is deprecated and will be removed in a future version.\n",
      "Instructions for updating:\n",
      "Use tf.where in 2.0, which has the same broadcast rule as np.where\n",
      "Epoch 1/100\n",
      "8000/8000 [==============================] - 0s 46us/sample - loss: 0.6704 - acc: 0.6135\n",
      "Epoch 2/100\n",
      "8000/8000 [==============================] - 0s 29us/sample - loss: 0.4879 - acc: 0.7974\n",
      "Epoch 3/100\n",
      "8000/8000 [==============================] - 0s 34us/sample - loss: 0.4416 - acc: 0.8086\n",
      "Epoch 4/100\n",
      "8000/8000 [==============================] - 0s 30us/sample - loss: 0.4265 - acc: 0.8152\n",
      "Epoch 5/100\n",
      "8000/8000 [==============================] - 0s 29us/sample - loss: 0.4211 - acc: 0.8177\n",
      "Epoch 6/100\n",
      "8000/8000 [==============================] - 0s 32us/sample - loss: 0.4176 - acc: 0.8179\n",
      "Epoch 7/100\n",
      "8000/8000 [==============================] - 0s 33us/sample - loss: 0.4143 - acc: 0.8192\n",
      "Epoch 8/100\n",
      "8000/8000 [==============================] - 0s 30us/sample - loss: 0.4114 - acc: 0.8215\n",
      "Epoch 9/100\n",
      "8000/8000 [==============================] - 0s 29us/sample - loss: 0.4090 - acc: 0.8214\n",
      "Epoch 10/100\n",
      "8000/8000 [==============================] - 0s 29us/sample - loss: 0.4062 - acc: 0.8220\n",
      "Epoch 11/100\n",
      "8000/8000 [==============================] - 0s 32us/sample - loss: 0.4035 - acc: 0.8238\n",
      "Epoch 12/100\n",
      "8000/8000 [==============================] - 0s 30us/sample - loss: 0.4009 - acc: 0.8234\n",
      "Epoch 13/100\n",
      "8000/8000 [==============================] - 0s 35us/sample - loss: 0.3983 - acc: 0.8248\n",
      "Epoch 14/100\n",
      "8000/8000 [==============================] - 0s 30us/sample - loss: 0.3954 - acc: 0.8255\n",
      "Epoch 15/100\n",
      "8000/8000 [==============================] - 0s 38us/sample - loss: 0.3933 - acc: 0.8266\n",
      "Epoch 16/100\n",
      "8000/8000 [==============================] - 0s 33us/sample - loss: 0.3912 - acc: 0.8264\n",
      "Epoch 17/100\n",
      "8000/8000 [==============================] - 0s 30us/sample - loss: 0.3887 - acc: 0.8274\n",
      "Epoch 18/100\n",
      "8000/8000 [==============================] - 0s 31us/sample - loss: 0.3867 - acc: 0.8279\n",
      "Epoch 19/100\n",
      "8000/8000 [==============================] - 0s 34us/sample - loss: 0.3843 - acc: 0.8289\n",
      "Epoch 20/100\n",
      "8000/8000 [==============================] - 0s 29us/sample - loss: 0.3816 - acc: 0.8294\n",
      "Epoch 21/100\n",
      "8000/8000 [==============================] - 0s 32us/sample - loss: 0.3779 - acc: 0.8353\n",
      "Epoch 22/100\n",
      "8000/8000 [==============================] - 0s 31us/sample - loss: 0.3736 - acc: 0.8394\n",
      "Epoch 23/100\n",
      "8000/8000 [==============================] - 0s 32us/sample - loss: 0.3687 - acc: 0.8484\n",
      "Epoch 24/100\n",
      "8000/8000 [==============================] - 0s 35us/sample - loss: 0.3636 - acc: 0.8505\n",
      "Epoch 25/100\n",
      "8000/8000 [==============================] - 0s 30us/sample - loss: 0.3585 - acc: 0.8521\n",
      "Epoch 26/100\n",
      "8000/8000 [==============================] - 0s 31us/sample - loss: 0.3549 - acc: 0.8539\n",
      "Epoch 27/100\n",
      "8000/8000 [==============================] - 0s 36us/sample - loss: 0.3517 - acc: 0.8544\n",
      "Epoch 28/100\n",
      "8000/8000 [==============================] - 0s 36us/sample - loss: 0.3493 - acc: 0.8556\n",
      "Epoch 29/100\n",
      "8000/8000 [==============================] - 0s 29us/sample - loss: 0.3479 - acc: 0.8569\n",
      "Epoch 30/100\n",
      "8000/8000 [==============================] - 0s 30us/sample - loss: 0.3463 - acc: 0.8584\n",
      "Epoch 31/100\n",
      "8000/8000 [==============================] - 0s 31us/sample - loss: 0.3446 - acc: 0.8583\n",
      "Epoch 32/100\n",
      "8000/8000 [==============================] - 0s 34us/sample - loss: 0.3435 - acc: 0.8581\n",
      "Epoch 33/100\n",
      "8000/8000 [==============================] - 0s 30us/sample - loss: 0.3433 - acc: 0.8596\n",
      "Epoch 34/100\n",
      "8000/8000 [==============================] - 0s 29us/sample - loss: 0.3421 - acc: 0.8610\n",
      "Epoch 35/100\n",
      "8000/8000 [==============================] - 0s 29us/sample - loss: 0.3417 - acc: 0.8591\n",
      "Epoch 36/100\n",
      "8000/8000 [==============================] - 0s 36us/sample - loss: 0.3410 - acc: 0.8591\n",
      "Epoch 37/100\n",
      "8000/8000 [==============================] - 0s 32us/sample - loss: 0.3402 - acc: 0.8601\n",
      "Epoch 38/100\n",
      "8000/8000 [==============================] - 0s 31us/sample - loss: 0.3402 - acc: 0.8609\n",
      "Epoch 39/100\n",
      "8000/8000 [==============================] - 0s 32us/sample - loss: 0.3393 - acc: 0.8605\n",
      "Epoch 40/100\n",
      "8000/8000 [==============================] - 0s 33us/sample - loss: 0.3390 - acc: 0.8612\n",
      "Epoch 41/100\n",
      "8000/8000 [==============================] - 0s 34us/sample - loss: 0.3387 - acc: 0.8606\n",
      "Epoch 42/100\n",
      "8000/8000 [==============================] - 0s 31us/sample - loss: 0.3383 - acc: 0.8620\n",
      "Epoch 43/100\n",
      "8000/8000 [==============================] - 0s 30us/sample - loss: 0.3383 - acc: 0.8614\n",
      "Epoch 44/100\n",
      "8000/8000 [==============================] - 0s 34us/sample - loss: 0.3378 - acc: 0.8619\n",
      "Epoch 45/100\n",
      "8000/8000 [==============================] - 0s 31us/sample - loss: 0.3377 - acc: 0.8619\n",
      "Epoch 46/100\n",
      "8000/8000 [==============================] - 0s 27us/sample - loss: 0.3373 - acc: 0.8622\n",
      "Epoch 47/100\n",
      "8000/8000 [==============================] - 0s 28us/sample - loss: 0.3371 - acc: 0.8622\n",
      "Epoch 48/100\n",
      "8000/8000 [==============================] - 0s 31us/sample - loss: 0.3362 - acc: 0.8624\n",
      "Epoch 49/100\n",
      "8000/8000 [==============================] - 0s 32us/sample - loss: 0.3365 - acc: 0.8649\n",
      "Epoch 50/100\n",
      "8000/8000 [==============================] - 0s 38us/sample - loss: 0.3365 - acc: 0.8619\n",
      "Epoch 51/100\n",
      "8000/8000 [==============================] - 0s 56us/sample - loss: 0.3362 - acc: 0.8629\n",
      "Epoch 52/100\n",
      "8000/8000 [==============================] - 0s 57us/sample - loss: 0.3364 - acc: 0.8627\n",
      "Epoch 53/100\n",
      "8000/8000 [==============================] - 0s 51us/sample - loss: 0.3355 - acc: 0.8629\n",
      "Epoch 54/100\n",
      "8000/8000 [==============================] - 0s 58us/sample - loss: 0.3356 - acc: 0.8624\n",
      "Epoch 55/100\n",
      "8000/8000 [==============================] - 0s 53us/sample - loss: 0.3355 - acc: 0.8633\n",
      "Epoch 56/100\n",
      "8000/8000 [==============================] - 0s 61us/sample - loss: 0.3352 - acc: 0.8631\n",
      "Epoch 57/100\n",
      "8000/8000 [==============================] - 0s 60us/sample - loss: 0.3352 - acc: 0.8640\n",
      "Epoch 58/100\n",
      "8000/8000 [==============================] - 0s 57us/sample - loss: 0.3354 - acc: 0.8641\n",
      "Epoch 59/100\n",
      "8000/8000 [==============================] - 0s 58us/sample - loss: 0.3351 - acc: 0.8620\n",
      "Epoch 60/100\n",
      "8000/8000 [==============================] - 0s 55us/sample - loss: 0.3352 - acc: 0.8637\n",
      "Epoch 61/100\n",
      "8000/8000 [==============================] - 0s 56us/sample - loss: 0.3346 - acc: 0.8621\n",
      "Epoch 62/100\n",
      "8000/8000 [==============================] - 0s 52us/sample - loss: 0.3343 - acc: 0.8636\n",
      "Epoch 63/100\n",
      "8000/8000 [==============================] - 0s 52us/sample - loss: 0.3343 - acc: 0.8656\n",
      "Epoch 64/100\n",
      "8000/8000 [==============================] - 1s 65us/sample - loss: 0.3343 - acc: 0.8636\n",
      "Epoch 65/100\n",
      "8000/8000 [==============================] - 1s 63us/sample - loss: 0.3346 - acc: 0.8634\n",
      "Epoch 66/100\n",
      "8000/8000 [==============================] - 0s 56us/sample - loss: 0.3343 - acc: 0.8629\n",
      "Epoch 67/100\n",
      "8000/8000 [==============================] - 0s 42us/sample - loss: 0.3342 - acc: 0.8645\n",
      "Epoch 68/100\n",
      "8000/8000 [==============================] - 0s 33us/sample - loss: 0.3339 - acc: 0.8650\n",
      "Epoch 69/100\n",
      "8000/8000 [==============================] - 0s 34us/sample - loss: 0.3338 - acc: 0.8630\n",
      "Epoch 70/100\n",
      "8000/8000 [==============================] - 0s 34us/sample - loss: 0.3334 - acc: 0.8640\n",
      "Epoch 71/100\n",
      "8000/8000 [==============================] - 0s 35us/sample - loss: 0.3337 - acc: 0.8634\n",
      "Epoch 72/100\n",
      "8000/8000 [==============================] - 0s 33us/sample - loss: 0.3337 - acc: 0.8637\n",
      "Epoch 73/100\n",
      "8000/8000 [==============================] - 0s 34us/sample - loss: 0.3337 - acc: 0.8639\n",
      "Epoch 74/100\n",
      "8000/8000 [==============================] - 0s 32us/sample - loss: 0.3335 - acc: 0.8650\n",
      "Epoch 75/100\n",
      "8000/8000 [==============================] - 0s 29us/sample - loss: 0.3338 - acc: 0.8654\n",
      "Epoch 76/100\n",
      "8000/8000 [==============================] - 0s 32us/sample - loss: 0.3333 - acc: 0.8635\n",
      "Epoch 77/100\n",
      "8000/8000 [==============================] - 0s 33us/sample - loss: 0.3331 - acc: 0.8639\n",
      "Epoch 78/100\n"
     ]
    },
    {
     "name": "stdout",
     "output_type": "stream",
     "text": [
      "8000/8000 [==============================] - 0s 32us/sample - loss: 0.3335 - acc: 0.8636\n",
      "Epoch 79/100\n",
      "8000/8000 [==============================] - 0s 29us/sample - loss: 0.3331 - acc: 0.8631\n",
      "Epoch 80/100\n",
      "8000/8000 [==============================] - 0s 27us/sample - loss: 0.3331 - acc: 0.8659\n",
      "Epoch 81/100\n",
      "8000/8000 [==============================] - 0s 32us/sample - loss: 0.3333 - acc: 0.8643\n",
      "Epoch 82/100\n",
      "8000/8000 [==============================] - 0s 27us/sample - loss: 0.3332 - acc: 0.8646\n",
      "Epoch 83/100\n",
      "8000/8000 [==============================] - 0s 29us/sample - loss: 0.3332 - acc: 0.8639\n",
      "Epoch 84/100\n",
      "8000/8000 [==============================] - 0s 30us/sample - loss: 0.3330 - acc: 0.8635\n",
      "Epoch 85/100\n",
      "8000/8000 [==============================] - 0s 31us/sample - loss: 0.3329 - acc: 0.8640\n",
      "Epoch 86/100\n",
      "8000/8000 [==============================] - 0s 32us/sample - loss: 0.3329 - acc: 0.8650\n",
      "Epoch 87/100\n",
      "8000/8000 [==============================] - 0s 35us/sample - loss: 0.3328 - acc: 0.8639\n",
      "Epoch 88/100\n",
      "8000/8000 [==============================] - 0s 30us/sample - loss: 0.3327 - acc: 0.8634\n",
      "Epoch 89/100\n",
      "8000/8000 [==============================] - 0s 31us/sample - loss: 0.3330 - acc: 0.8640\n",
      "Epoch 90/100\n",
      "8000/8000 [==============================] - 0s 30us/sample - loss: 0.3328 - acc: 0.8636\n",
      "Epoch 91/100\n",
      "8000/8000 [==============================] - 0s 27us/sample - loss: 0.3328 - acc: 0.8652\n",
      "Epoch 92/100\n",
      "8000/8000 [==============================] - 0s 29us/sample - loss: 0.3329 - acc: 0.8659\n",
      "Epoch 93/100\n",
      "8000/8000 [==============================] - 0s 34us/sample - loss: 0.3323 - acc: 0.8646\n",
      "Epoch 94/100\n",
      "8000/8000 [==============================] - 0s 31us/sample - loss: 0.3321 - acc: 0.8649\n",
      "Epoch 95/100\n",
      "8000/8000 [==============================] - 0s 30us/sample - loss: 0.3326 - acc: 0.8636\n",
      "Epoch 96/100\n",
      "8000/8000 [==============================] - 0s 27us/sample - loss: 0.3330 - acc: 0.8631\n",
      "Epoch 97/100\n",
      "8000/8000 [==============================] - 0s 27us/sample - loss: 0.3320 - acc: 0.8641\n",
      "Epoch 98/100\n",
      "8000/8000 [==============================] - 0s 31us/sample - loss: 0.3324 - acc: 0.8644\n",
      "Epoch 99/100\n",
      "8000/8000 [==============================] - 0s 28us/sample - loss: 0.3321 - acc: 0.8661\n",
      "Epoch 100/100\n",
      "8000/8000 [==============================] - 0s 27us/sample - loss: 0.3323 - acc: 0.8644\n"
     ]
    },
    {
     "data": {
      "text/plain": [
       "<tensorflow.python.keras.callbacks.History at 0x19107146c08>"
      ]
     },
     "execution_count": 23,
     "metadata": {},
     "output_type": "execute_result"
    }
   ],
   "source": [
    "ann.fit(X_train, y_train, batch_size = 32, epochs = 100)\n",
    "#batch_size 32 selected being default"
   ]
  },
  {
   "cell_type": "markdown",
   "metadata": {},
   "source": [
    "Predicting the Test Set Results and Confusion Matrix"
   ]
  },
  {
   "cell_type": "code",
   "execution_count": 24,
   "metadata": {},
   "outputs": [
    {
     "name": "stdout",
     "output_type": "stream",
     "text": [
      "[[0 0]\n",
      " [0 1]\n",
      " [0 0]\n",
      " ...\n",
      " [0 0]\n",
      " [0 0]\n",
      " [0 0]]\n"
     ]
    }
   ],
   "source": [
    "y_pred = ann.predict(X_test)\n",
    "y_pred = (y_pred > 0.5)\n",
    "print(np.concatenate((y_pred.reshape(len(y_pred),1),y_test.reshape(len(y_test),1)),1))"
   ]
  },
  {
   "cell_type": "code",
   "execution_count": 26,
   "metadata": {},
   "outputs": [
    {
     "name": "stdout",
     "output_type": "stream",
     "text": [
      "[[1540   55]\n",
      " [ 221  184]]\n",
      "              precision    recall  f1-score   support\n",
      "\n",
      "           0       0.87      0.97      0.92      1595\n",
      "           1       0.77      0.45      0.57       405\n",
      "\n",
      "    accuracy                           0.86      2000\n",
      "   macro avg       0.82      0.71      0.74      2000\n",
      "weighted avg       0.85      0.86      0.85      2000\n",
      "\n"
     ]
    }
   ],
   "source": [
    "from sklearn.metrics import confusion_matrix,classification_report\n",
    "print(confusion_matrix(y_test, y_pred))\n",
    "print(classification_report(y_test,y_pred))"
   ]
  },
  {
   "cell_type": "markdown",
   "metadata": {},
   "source": [
    "Predicting result for below mentioned person"
   ]
  },
  {
   "cell_type": "code",
   "execution_count": 28,
   "metadata": {},
   "outputs": [],
   "source": [
    "#To find out if the customer's gonna leave the bank\n",
    "\n",
    "#Customer info\n",
    "#Geography : France\n",
    "#Credit Score :600\n",
    "#Gender : Male\n",
    "#Age :40\n",
    "#Tenure : 3\n",
    "#Balance : 60000\n",
    "#No of products : 2\n",
    "#credit card? Yes\n",
    "#Active? Yes\n",
    "#Est. Salary : 50000"
   ]
  },
  {
   "cell_type": "code",
   "execution_count": 29,
   "metadata": {},
   "outputs": [
    {
     "name": "stdout",
     "output_type": "stream",
     "text": [
      "[[0.01803063]]\n"
     ]
    }
   ],
   "source": [
    "print(ann.predict(sc.transform([[1, 0, 0, 600, 1, 40, 3, 60000, 2, 1, 1, 50000]])))"
   ]
  },
  {
   "cell_type": "code",
   "execution_count": 30,
   "metadata": {},
   "outputs": [
    {
     "name": "stdout",
     "output_type": "stream",
     "text": [
      "[[False]]\n"
     ]
    }
   ],
   "source": [
    "print(ann.predict(sc.transform([[1, 0, 0, 600, 1, 40, 3, 60000, 2, 1, 1, 50000]])) > 0.5)\n",
    "#To put in statement than percentage"
   ]
  },
  {
   "cell_type": "code",
   "execution_count": null,
   "metadata": {},
   "outputs": [],
   "source": []
  }
 ],
 "metadata": {
  "kernelspec": {
   "display_name": "Python 3",
   "language": "python",
   "name": "python3"
  },
  "language_info": {
   "codemirror_mode": {
    "name": "ipython",
    "version": 3
   },
   "file_extension": ".py",
   "mimetype": "text/x-python",
   "name": "python",
   "nbconvert_exporter": "python",
   "pygments_lexer": "ipython3",
   "version": "3.7.6"
  }
 },
 "nbformat": 4,
 "nbformat_minor": 4
}
