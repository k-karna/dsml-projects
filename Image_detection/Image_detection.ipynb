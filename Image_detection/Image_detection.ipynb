{
 "cells": [
  {
   "cell_type": "code",
   "execution_count": 3,
   "metadata": {},
   "outputs": [
    {
     "name": "stderr",
     "output_type": "stream",
     "text": [
      "Using TensorFlow backend.\n"
     ]
    }
   ],
   "source": [
    "import tensorflow as tf\n",
    "from keras.preprocessing.image import ImageDataGenerator"
   ]
  },
  {
   "cell_type": "code",
   "execution_count": 4,
   "metadata": {},
   "outputs": [
    {
     "data": {
      "text/plain": [
       "'2.2.0'"
      ]
     },
     "execution_count": 4,
     "metadata": {},
     "output_type": "execute_result"
    }
   ],
   "source": [
    "tf.__version__"
   ]
  },
  {
   "cell_type": "markdown",
   "metadata": {},
   "source": [
    "Data Preprocessing - two parts - Preprocessing Training Set and Test Set"
   ]
  },
  {
   "cell_type": "code",
   "execution_count": 6,
   "metadata": {},
   "outputs": [
    {
     "name": "stdout",
     "output_type": "stream",
     "text": [
      "Found 8000 images belonging to 2 classes.\n"
     ]
    }
   ],
   "source": [
    "#Preprocessing the trainng set\n",
    "\n",
    "train_datagen = ImageDataGenerator(\n",
    "        rescale=1./255,\n",
    "        shear_range=0.2,\n",
    "        zoom_range=0.2,\n",
    "        horizontal_flip=True)\n",
    "\n",
    "training_set = train_datagen.flow_from_directory(\n",
    "        'dataset/training_set',\n",
    "        target_size=(64, 64),\n",
    "        batch_size=32,\n",
    "        class_mode='binary')"
   ]
  },
  {
   "cell_type": "code",
   "execution_count": 7,
   "metadata": {},
   "outputs": [
    {
     "name": "stdout",
     "output_type": "stream",
     "text": [
      "Found 2000 images belonging to 2 classes.\n"
     ]
    }
   ],
   "source": [
    "#Preprocessing the test set\n",
    "test_datagen = ImageDataGenerator(rescale=1./255)\n",
    "\n",
    "test_set = test_datagen.flow_from_directory(\n",
    "        'dataset/test_set',\n",
    "        target_size=(64, 64),\n",
    "        batch_size=32,\n",
    "        class_mode='binary')"
   ]
  },
  {
   "cell_type": "markdown",
   "metadata": {},
   "source": [
    "Building the CNN - Initializing the CNN"
   ]
  },
  {
   "cell_type": "code",
   "execution_count": 8,
   "metadata": {},
   "outputs": [],
   "source": [
    "cnn = tf.keras.models.Sequential()"
   ]
  },
  {
   "cell_type": "code",
   "execution_count": 9,
   "metadata": {},
   "outputs": [],
   "source": [
    "#Convolution\n",
    "cnn.add(tf.keras.layers.Conv2D(filters = 32, kernel_size = 3,activation= 'relu', input_shape=[64,64,3]))"
   ]
  },
  {
   "cell_type": "code",
   "execution_count": 10,
   "metadata": {},
   "outputs": [],
   "source": [
    "#Pooling(MaxPooling)\n",
    "cnn.add(tf.keras.layers.MaxPool2D(pool_size = 2, strides = 2))"
   ]
  },
  {
   "cell_type": "code",
   "execution_count": 11,
   "metadata": {},
   "outputs": [],
   "source": [
    "#Second layer of Convolution\n",
    "cnn.add(tf.keras.layers.Conv2D(filters = 32, kernel_size = 3,activation= 'relu'))\n",
    "cnn.add(tf.keras.layers.MaxPool2D(pool_size = 2, strides = 2))\n",
    "\n",
    "#input_shape from convolution has been removed as it automatically connects to the first layer"
   ]
  },
  {
   "cell_type": "code",
   "execution_count": 12,
   "metadata": {},
   "outputs": [],
   "source": [
    "#Flattening\n",
    "\n",
    "cnn.add(tf.keras.layers.Flatten())"
   ]
  },
  {
   "cell_type": "code",
   "execution_count": 13,
   "metadata": {},
   "outputs": [],
   "source": [
    "#Full Connecting\n",
    "\n",
    "cnn.add(tf.keras.layers.Dense(units = 128, activation = 'relu'))"
   ]
  },
  {
   "cell_type": "code",
   "execution_count": 14,
   "metadata": {},
   "outputs": [],
   "source": [
    "#creating output layer\n",
    "\n",
    "cnn.add(tf.keras.layers.Dense(units = 1, activation = 'sigmoid'))"
   ]
  },
  {
   "cell_type": "markdown",
   "metadata": {},
   "source": [
    "Training the CNN - Compiling the CNN"
   ]
  },
  {
   "cell_type": "code",
   "execution_count": 15,
   "metadata": {},
   "outputs": [],
   "source": [
    "cnn.compile(optimizer='adam', loss='binary_crossentropy', metrics = ['accuracy'])"
   ]
  },
  {
   "cell_type": "code",
   "execution_count": 17,
   "metadata": {},
   "outputs": [
    {
     "name": "stdout",
     "output_type": "stream",
     "text": [
      "Epoch 1/25\n",
      "250/250 [==============================] - 30s 120ms/step - loss: 0.6362 - accuracy: 0.6399 - val_loss: 0.7344 - val_accuracy: 0.6045\n",
      "Epoch 2/25\n",
      "250/250 [==============================] - 30s 121ms/step - loss: 0.5934 - accuracy: 0.6805 - val_loss: 0.5559 - val_accuracy: 0.7295\n",
      "Epoch 3/25\n",
      "250/250 [==============================] - 30s 121ms/step - loss: 0.5521 - accuracy: 0.7140 - val_loss: 0.5213 - val_accuracy: 0.7520\n",
      "Epoch 4/25\n",
      "250/250 [==============================] - 31s 122ms/step - loss: 0.5228 - accuracy: 0.7387 - val_loss: 0.5310 - val_accuracy: 0.7425\n",
      "Epoch 5/25\n",
      "250/250 [==============================] - 31s 124ms/step - loss: 0.4985 - accuracy: 0.7549 - val_loss: 0.5250 - val_accuracy: 0.7580\n",
      "Epoch 6/25\n",
      "250/250 [==============================] - 31s 126ms/step - loss: 0.4747 - accuracy: 0.7700 - val_loss: 0.4905 - val_accuracy: 0.7675\n",
      "Epoch 7/25\n",
      "250/250 [==============================] - 32s 127ms/step - loss: 0.4587 - accuracy: 0.7794 - val_loss: 0.4923 - val_accuracy: 0.7655\n",
      "Epoch 8/25\n",
      "250/250 [==============================] - 32s 129ms/step - loss: 0.4414 - accuracy: 0.7881 - val_loss: 0.5128 - val_accuracy: 0.7575\n",
      "Epoch 9/25\n",
      "250/250 [==============================] - 33s 131ms/step - loss: 0.4297 - accuracy: 0.8004 - val_loss: 0.4951 - val_accuracy: 0.7730\n",
      "Epoch 10/25\n",
      "250/250 [==============================] - 34s 135ms/step - loss: 0.4139 - accuracy: 0.8124 - val_loss: 0.4715 - val_accuracy: 0.7885\n",
      "Epoch 11/25\n",
      "250/250 [==============================] - 32s 129ms/step - loss: 0.3910 - accuracy: 0.8232 - val_loss: 0.4757 - val_accuracy: 0.7855\n",
      "Epoch 12/25\n",
      "250/250 [==============================] - 32s 130ms/step - loss: 0.3794 - accuracy: 0.8242 - val_loss: 0.4575 - val_accuracy: 0.7935\n",
      "Epoch 13/25\n",
      "250/250 [==============================] - 32s 130ms/step - loss: 0.3670 - accuracy: 0.8372 - val_loss: 0.4825 - val_accuracy: 0.7870\n",
      "Epoch 14/25\n",
      "250/250 [==============================] - 32s 130ms/step - loss: 0.3501 - accuracy: 0.8457 - val_loss: 0.4789 - val_accuracy: 0.7990\n",
      "Epoch 15/25\n",
      "250/250 [==============================] - 32s 130ms/step - loss: 0.3398 - accuracy: 0.8519 - val_loss: 0.4808 - val_accuracy: 0.8005\n",
      "Epoch 16/25\n",
      "250/250 [==============================] - 32s 130ms/step - loss: 0.3066 - accuracy: 0.8687 - val_loss: 0.4752 - val_accuracy: 0.7980\n",
      "Epoch 17/25\n",
      "250/250 [==============================] - 33s 130ms/step - loss: 0.2914 - accuracy: 0.8774 - val_loss: 0.5023 - val_accuracy: 0.7855\n",
      "Epoch 18/25\n",
      "250/250 [==============================] - 33s 130ms/step - loss: 0.2768 - accuracy: 0.8861 - val_loss: 0.5271 - val_accuracy: 0.7935\n",
      "Epoch 19/25\n",
      "250/250 [==============================] - 33s 130ms/step - loss: 0.2736 - accuracy: 0.8836 - val_loss: 0.4688 - val_accuracy: 0.8025\n",
      "Epoch 20/25\n",
      "250/250 [==============================] - 32s 130ms/step - loss: 0.2529 - accuracy: 0.8935 - val_loss: 0.5245 - val_accuracy: 0.7960\n",
      "Epoch 21/25\n",
      "250/250 [==============================] - 32s 130ms/step - loss: 0.2269 - accuracy: 0.9070 - val_loss: 0.5556 - val_accuracy: 0.8045\n",
      "Epoch 22/25\n",
      "250/250 [==============================] - 32s 130ms/step - loss: 0.2202 - accuracy: 0.9111 - val_loss: 0.5537 - val_accuracy: 0.7980\n",
      "Epoch 23/25\n",
      "250/250 [==============================] - 32s 130ms/step - loss: 0.2131 - accuracy: 0.9091 - val_loss: 0.5380 - val_accuracy: 0.7860\n",
      "Epoch 24/25\n",
      "250/250 [==============================] - 32s 130ms/step - loss: 0.2044 - accuracy: 0.9159 - val_loss: 0.5843 - val_accuracy: 0.7980\n",
      "Epoch 25/25\n",
      "250/250 [==============================] - 33s 130ms/step - loss: 0.1906 - accuracy: 0.9245 - val_loss: 0.5618 - val_accuracy: 0.8015\n"
     ]
    },
    {
     "data": {
      "text/plain": [
       "<tensorflow.python.keras.callbacks.History at 0x7fedd503f310>"
      ]
     },
     "execution_count": 17,
     "metadata": {},
     "output_type": "execute_result"
    }
   ],
   "source": [
    "cnn.fit(x = training_set, validation_data = test_set,steps_per_epoch = 250, epochs = 25)"
   ]
  },
  {
   "cell_type": "code",
   "execution_count": 20,
   "metadata": {},
   "outputs": [],
   "source": [
    "#getting result on a single image to check accuracy\n",
    "\n",
    "import numpy as np\n",
    "from keras.preprocessing import image\n",
    "test_image = image.load_img('dataset/single_prediction/cat_or_dog_1.jpg',\n",
    "                           target_size = (64, 64))"
   ]
  },
  {
   "cell_type": "code",
   "execution_count": 21,
   "metadata": {},
   "outputs": [
    {
     "name": "stdout",
     "output_type": "stream",
     "text": [
      "dog\n"
     ]
    }
   ],
   "source": [
    "test_image = image.img_to_array(test_image)\n",
    "test_image = np.expand_dims(test_image, axis = 0)\n",
    "result = cnn.predict(test_image)\n",
    "\n",
    "training_set.class_indices\n",
    "if result[0][0] == 1:\n",
    "    prediction = 'dog'\n",
    "else:\n",
    "    prediction = 'cat'\n",
    "    \n",
    "print(prediction)"
   ]
  },
  {
   "cell_type": "code",
   "execution_count": null,
   "metadata": {},
   "outputs": [],
   "source": []
  }
 ],
 "metadata": {
  "kernelspec": {
   "display_name": "Python 3",
   "language": "python",
   "name": "python3"
  },
  "language_info": {
   "codemirror_mode": {
    "name": "ipython",
    "version": 3
   },
   "file_extension": ".py",
   "mimetype": "text/x-python",
   "name": "python",
   "nbconvert_exporter": "python",
   "pygments_lexer": "ipython3",
   "version": "3.7.6"
  }
 },
 "nbformat": 4,
 "nbformat_minor": 4
}
